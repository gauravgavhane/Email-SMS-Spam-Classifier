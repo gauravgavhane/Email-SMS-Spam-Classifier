import numpy as np
import pandas as pd


df = pd.read_csv('spam.csv')
df.sample(5)





pip install chardet


import chardet

with open('spam.csv', 'rb') as f:
    result = chardet.detect(f.read(10000))
    print(result)



df = pd.read_csv('spam.csv', encoding='windows-1252')
df.sample(5)


df.shape


# 1 Data Cleaning
# 2 EDA
# 3 Text processing
# 4 Model building
# 5 Evaluation
# 6 Improvement
# 7 Website
# Deploy





df.info()


# drop last 3 clos
df.drop(columns=['Unnamed: 2','Unnamed: 3','Unnamed: 4'], inplace=True)


df.sample(5)


# renaming the columns
df.rename(columns={'v1':'target','v2':'text'},inplace=True)
df.sample(5)


from sklearn.preprocessing import LabelEncoder
encoder = LabelEncoder()


df['target'] = encoder.fit_transform(df['target'])


df.head()


get_ipython().run_line_magic("config", " Completer.use_jedi = False")




